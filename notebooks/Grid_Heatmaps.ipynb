{
  "cells": [
    {
      "cell_type": "raw",
      "metadata": {
        "vscode": {
          "languageId": "raw"
        }
      },
      "source": [
        "# MMRL Grid Search + Heatmaps\n",
        "\n",
        "Run the grid search and plot heatmaps for final PnL and Sharpe.\n"
      ]
    },
    {
      "cell_type": "code",
      "execution_count": null,
      "metadata": {},
      "outputs": [],
      "source": [
        "# Setup\n",
        "import subprocess, sys\n",
        "subprocess.run([sys.executable, '-m', 'pip', 'install', '-r', 'requirements.txt'], check=True)\n"
      ]
    },
    {
      "cell_type": "code",
      "execution_count": null,
      "metadata": {},
      "outputs": [],
      "source": [
        "# Run grid search\n",
        "import os, subprocess, sys\n",
        "env = os.environ.copy()\n",
        "env['MMRL_CONFIG'] = 'configs/inventory.yaml'\n",
        "subprocess.run([sys.executable, 'experiments/grid_search_inventory_mm.py'], check=True, env=env)\n"
      ]
    },
    {
      "cell_type": "code",
      "execution_count": null,
      "metadata": {},
      "outputs": [],
      "source": [
        "# Plot heatmaps\n",
        "import pandas as pd\n",
        "from pathlib import Path\n",
        "import matplotlib.pyplot as plt\n",
        "import seaborn as sns\n",
        "\n",
        "latest = sorted(Path('results').glob('*grid*'), key=lambda p: p.stat().st_mtime)[-1]\n",
        "df = pd.read_csv(latest / 'grid_search_results.csv')\n",
        "\n",
        "pivot_pnl = df.pivot(index='spread', columns='sensitivity', values='final_pnl')\n",
        "pivot_sharpe = df.pivot(index='spread', columns='sensitivity', values='sharpe')\n",
        "\n",
        "fig, axes = plt.subplots(1, 2, figsize=(12,5))\n",
        "sns.heatmap(pivot_pnl, ax=axes[0], annot=False, cmap='viridis')\n",
        "axes[0].set_title('Final PnL')\n",
        "sns.heatmap(pivot_sharpe, ax=axes[1], annot=False, cmap='magma')\n",
        "axes[1].set_title('Sharpe')\n",
        "plt.tight_layout()\n",
        "plt.show()\n"
      ]
    }
  ],
  "metadata": {
    "language_info": {
      "name": "python"
    }
  },
  "nbformat": 4,
  "nbformat_minor": 2
}
