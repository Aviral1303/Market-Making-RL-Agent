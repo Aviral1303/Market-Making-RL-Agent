{
  "cells": [
    {
      "cell_type": "raw",
      "metadata": {
        "vscode": {
          "languageId": "raw"
        }
      },
      "source": [
        "# MMRL: RL vs Rule-Based\n",
        "\n",
        "Train/evaluate PPO vs rule-based agents and compare metrics.\n"
      ]
    },
    {
      "cell_type": "code",
      "execution_count": null,
      "metadata": {},
      "outputs": [],
      "source": [
        "# Setup RL extras\n",
        "import subprocess, sys\n",
        "subprocess.run([sys.executable, '-m', 'pip', 'install', '-r', 'requirements.txt'], check=True)\n"
      ]
    },
    {
      "cell_type": "code",
      "execution_count": null,
      "metadata": {},
      "outputs": [],
      "source": [
        "# Evaluate\n",
        "import os, subprocess, sys\n",
        "env = os.environ.copy()\n",
        "env['MMRL_CONFIG'] = 'configs/inventory.yaml'\n",
        "subprocess.run([sys.executable, 'experiments/evaluate_agents.py'], check=True, env=env)\n"
      ]
    }
  ],
  "metadata": {
    "language_info": {
      "name": "python"
    }
  },
  "nbformat": 4,
  "nbformat_minor": 2
}
