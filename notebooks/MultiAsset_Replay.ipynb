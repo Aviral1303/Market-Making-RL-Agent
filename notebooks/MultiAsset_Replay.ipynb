{
  "cells": [
    {
      "cell_type": "raw",
      "metadata": {
        "vscode": {
          "languageId": "raw"
        }
      },
      "source": [
        "# MMRL: Multi-asset & Replay\n",
        "\n",
        "Demonstrate multi-asset evaluation and a simple market replay pipeline.\n"
      ]
    },
    {
      "cell_type": "code",
      "execution_count": null,
      "metadata": {},
      "outputs": [],
      "source": [
        "# Setup\n",
        "import subprocess, sys\n",
        "subprocess.run([sys.executable, '-m', 'pip', 'install', '-r', 'requirements.txt'], check=True)\n"
      ]
    },
    {
      "cell_type": "code",
      "execution_count": null,
      "metadata": {},
      "outputs": [],
      "source": [
        "# Multi-asset evaluation (if script available)\n",
        "import os, subprocess, sys\n",
        "if os.path.exists('experiments/evaluate_multi_asset.py'):\n",
        "    env = os.environ.copy()\n",
        "    env['MMRL_CONFIG'] = 'configs/inventory.yaml'\n",
        "    subprocess.run([sys.executable, 'experiments/evaluate_multi_asset.py'], check=True, env=env)\n",
        "else:\n",
        "    print('experiments/evaluate_multi_asset.py not found; skipping')\n"
      ]
    },
    {
      "cell_type": "code",
      "execution_count": null,
      "metadata": {},
      "outputs": [],
      "source": [
        "# Simple replay demo\n",
        "from adapters.market_replay import MarketReplay\n",
        "import pandas as pd\n",
        "\n",
        "# Create a tiny sample\n",
        "sample = 'data/sample_trades.csv'\n",
        "pd.DataFrame([\n",
        "    {'time': 1, 'mid': 100.0, 'best_bid': 99.9, 'best_ask': 100.1, 'volume': 1.0},\n",
        "    {'time': 2, 'mid': 100.02, 'best_bid': 99.92, 'best_ask': 100.12, 'volume': 2.0},\n",
        "]).to_csv(sample, index=False)\n",
        "\n",
        "rep = MarketReplay(sample, fmt='csv')\n",
        "list(rep.iter_ticks())[:2]\n"
      ]
    }
  ],
  "metadata": {
    "language_info": {
      "name": "python"
    }
  },
  "nbformat": 4,
  "nbformat_minor": 2
}
