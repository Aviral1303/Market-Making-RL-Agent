{
  "cells": [
    {
      "cell_type": "raw",
      "metadata": {
        "vscode": {
          "languageId": "raw"
        }
      },
      "source": [
        "# MMRL Quickstart\n",
        "\n",
        "Run a single market-making backtest, inspect results, and plot PnL and inventory.\n",
        "\n",
        "This notebook is Colab-ready. It will clone the repo and run the experiment script directly.\n"
      ]
    },
    {
      "cell_type": "code",
      "execution_count": null,
      "metadata": {},
      "outputs": [],
      "source": [
        "# Setup\n",
        "import os, subprocess, sys\n",
        "\n",
        "repo_dir = os.path.abspath('.')\n",
        "# Install requirements for this environment\n",
        "subprocess.run([sys.executable, '-m', 'pip', 'install', '-r', 'requirements.txt'], check=True)\n"
      ]
    },
    {
      "cell_type": "code",
      "execution_count": null,
      "metadata": {},
      "outputs": [],
      "source": [
        "# Run a backtest\n",
        "import os, subprocess, sys\n",
        "\n",
        "env = os.environ.copy()\n",
        "env['MMRL_CONFIG'] = 'configs/inventory.yaml'\n",
        "subprocess.run([sys.executable, 'experiments/run_inventory_mm.py'], check=True, env=env)\n"
      ]
    },
    {
      "cell_type": "code",
      "execution_count": null,
      "metadata": {},
      "outputs": [],
      "source": [
        "# Inspect results\n",
        "import pandas as pd\n",
        "from pathlib import Path\n",
        "\n",
        "latest = sorted(Path('results').iterdir(), key=lambda p: p.stat().st_mtime)[-1]\n",
        "df = pd.read_csv(latest / 'inventory_mm_run.csv')\n",
        "df.tail()\n"
      ]
    },
    {
      "cell_type": "code",
      "execution_count": null,
      "metadata": {},
      "outputs": [],
      "source": [
        "# Plot PnL and Inventory\n",
        "import matplotlib.pyplot as plt\n",
        "\n",
        "plt.figure(figsize=(12,6))\n",
        "plt.subplot(2,1,1)\n",
        "plt.plot(df['time'], df['pnl'])\n",
        "plt.title('PnL over time')\n",
        "plt.subplot(2,1,2)\n",
        "plt.plot(df['time'], df['inventory'])\n",
        "plt.title('Inventory over time')\n",
        "plt.tight_layout()\n",
        "plt.show()\n"
      ]
    }
  ],
  "metadata": {
    "language_info": {
      "name": "python"
    }
  },
  "nbformat": 4,
  "nbformat_minor": 2
}
